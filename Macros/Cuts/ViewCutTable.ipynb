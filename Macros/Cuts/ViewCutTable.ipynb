{
 "cells": [
  {
   "cell_type": "code",
   "execution_count": 1,
   "metadata": {
    "collapsed": true
   },
   "outputs": [],
   "source": [
    "import pandas as pd\n",
    "import os, sys"
   ]
  },
  {
   "cell_type": "code",
   "execution_count": 2,
   "metadata": {
    "collapsed": false
   },
   "outputs": [
    {
     "data": {
      "text/html": [
       "<style>\n",
       "body {\n",
       "    font-family: \"Times New Roman\";\n",
       "}\n",
       "</style>  "
      ],
      "text/plain": [
       "<IPython.core.display.HTML object>"
      ]
     },
     "metadata": {},
     "output_type": "display_data"
    }
   ],
   "source": [
    "%%html\n",
    "<style>\n",
    "body {\n",
    "    font-family: \"Times New Roman\";\n",
    "}\n",
    "</style>  "
   ]
  },
  {
   "cell_type": "markdown",
   "metadata": {},
   "source": [
    "__Setup and Options__<br>\n",
    "mass_type:  \"HMDY\", \"LowM_AMDY\"<br>\n",
    "production: \"t3\", \"slot1\"<br>\n",
    "which_cuts: \"FinalCuts\", \"PhastCuts\""
   ]
  },
  {
   "cell_type": "code",
   "execution_count": 3,
   "metadata": {
    "collapsed": true
   },
   "outputs": [],
   "source": [
    "mass_type =\"LowM_AMDY\" #HMDY, LowM_AMDY\n",
    "production =\"t3\" #t3, slot1\n",
    "which_cuts =\"FinalCuts\""
   ]
  },
  {
   "cell_type": "code",
   "execution_count": 21,
   "metadata": {
    "collapsed": false
   },
   "outputs": [],
   "source": [
    "cuts_path = \"/Users/robertheitz/Documents/Research/DrellYan/Analysis/TGeant/Local_LeftRight_Analysis/Macros/Cuts/\"\n",
    "data_file = cuts_path+\"Data/CombineTables/combineTables_\"+mass_type+\"_\"+production+\"_\"+which_cuts+\".csv\"\n",
    "if os.path.exists(data_file) == False:\n",
    "    print \"   File:\"\n",
    "    print data_file\n",
    "    print \"   does not exit\"\n",
    "    sys.exit()\n",
    "#col_headers = [\"Data Cuts\", \"W07\", \"W08\", \"W09\", \"W10\", \"W11\", \"W12\", \"W13\", \"W14\", \"W15\"]\n",
    "#data_cuts = pd.read_csv(data_file, delimiter=\",\", header=col_headers)\n",
    "data_cuts = pd.read_csv(data_file, delimiter=\",\")\n",
    "data_cuts.columns = [\"Data Cuts\", \"W07\", \"W08\", \"W09\", \"W10\", \"W11\", \"W12\", \"W13\", \"W14\", \"W15\", \"WAll\"]\n",
    "data_cuts[\"% Remaining\"] = 100*data_cuts[\"WAll\"]/max(data_cuts[\"WAll\"])"
   ]
  },
  {
   "cell_type": "code",
   "execution_count": 22,
   "metadata": {
    "collapsed": false,
    "scrolled": false,
    "slideshow": {
     "slide_type": "-"
    }
   },
   "outputs": [
    {
     "data": {
      "text/html": [
       "<div>\n",
       "<style scoped>\n",
       "    .dataframe tbody tr th:only-of-type {\n",
       "        vertical-align: middle;\n",
       "    }\n",
       "\n",
       "    .dataframe tbody tr th {\n",
       "        vertical-align: top;\n",
       "    }\n",
       "\n",
       "    .dataframe thead th {\n",
       "        text-align: right;\n",
       "    }\n",
       "</style>\n",
       "<table border=\"1\" class=\"dataframe\">\n",
       "  <thead>\n",
       "    <tr style=\"text-align: right;\">\n",
       "      <th></th>\n",
       "      <th>Data Cuts</th>\n",
       "      <th>W07</th>\n",
       "      <th>W08</th>\n",
       "      <th>W09</th>\n",
       "      <th>W10</th>\n",
       "      <th>W11</th>\n",
       "      <th>W12</th>\n",
       "      <th>W13</th>\n",
       "      <th>W14</th>\n",
       "      <th>W15</th>\n",
       "      <th>WAll</th>\n",
       "      <th>% Remaining</th>\n",
       "    </tr>\n",
       "  </thead>\n",
       "  <tbody>\n",
       "    <tr>\n",
       "      <th>0</th>\n",
       "      <td>AllData</td>\n",
       "      <td>20259358</td>\n",
       "      <td>20605574</td>\n",
       "      <td>20520815</td>\n",
       "      <td>21630118</td>\n",
       "      <td>33644484</td>\n",
       "      <td>25126579</td>\n",
       "      <td>21778925</td>\n",
       "      <td>14304447</td>\n",
       "      <td>8246741</td>\n",
       "      <td>186117041</td>\n",
       "      <td>100.000000</td>\n",
       "    </tr>\n",
       "    <tr>\n",
       "      <th>1</th>\n",
       "      <td>GoodSpills</td>\n",
       "      <td>16765362</td>\n",
       "      <td>16008862</td>\n",
       "      <td>17151894</td>\n",
       "      <td>17710277</td>\n",
       "      <td>24699753</td>\n",
       "      <td>21779857</td>\n",
       "      <td>17124772</td>\n",
       "      <td>12857160</td>\n",
       "      <td>7964840</td>\n",
       "      <td>152062777</td>\n",
       "      <td>81.702769</td>\n",
       "    </tr>\n",
       "    <tr>\n",
       "      <th>2</th>\n",
       "      <td>xPion_xN_xF</td>\n",
       "      <td>16765341</td>\n",
       "      <td>16008848</td>\n",
       "      <td>17151876</td>\n",
       "      <td>17710265</td>\n",
       "      <td>24699727</td>\n",
       "      <td>21779839</td>\n",
       "      <td>17124760</td>\n",
       "      <td>12857152</td>\n",
       "      <td>7964831</td>\n",
       "      <td>152062639</td>\n",
       "      <td>81.702695</td>\n",
       "    </tr>\n",
       "    <tr>\n",
       "      <th>3</th>\n",
       "      <td>0.4&lt;qT&lt;5</td>\n",
       "      <td>12480029</td>\n",
       "      <td>11906596</td>\n",
       "      <td>12743771</td>\n",
       "      <td>13168371</td>\n",
       "      <td>18377891</td>\n",
       "      <td>16190006</td>\n",
       "      <td>12728493</td>\n",
       "      <td>9550992</td>\n",
       "      <td>5923996</td>\n",
       "      <td>113070145</td>\n",
       "      <td>60.752172</td>\n",
       "    </tr>\n",
       "    <tr>\n",
       "      <th>4</th>\n",
       "      <td>dilutionFactor</td>\n",
       "      <td>12480029</td>\n",
       "      <td>11906596</td>\n",
       "      <td>12743771</td>\n",
       "      <td>13168371</td>\n",
       "      <td>18377891</td>\n",
       "      <td>16190006</td>\n",
       "      <td>12728493</td>\n",
       "      <td>9550992</td>\n",
       "      <td>5923996</td>\n",
       "      <td>113070145</td>\n",
       "      <td>60.752172</td>\n",
       "    </tr>\n",
       "    <tr>\n",
       "      <th>5</th>\n",
       "      <td>TargetZ-cut</td>\n",
       "      <td>3106410</td>\n",
       "      <td>3006092</td>\n",
       "      <td>3154207</td>\n",
       "      <td>3244077</td>\n",
       "      <td>4528727</td>\n",
       "      <td>3996310</td>\n",
       "      <td>3143020</td>\n",
       "      <td>2367293</td>\n",
       "      <td>1457886</td>\n",
       "      <td>28004022</td>\n",
       "      <td>15.046458</td>\n",
       "    </tr>\n",
       "    <tr>\n",
       "      <th>6</th>\n",
       "      <td>TargetRadius</td>\n",
       "      <td>2502000</td>\n",
       "      <td>2390843</td>\n",
       "      <td>2576198</td>\n",
       "      <td>2647451</td>\n",
       "      <td>3682446</td>\n",
       "      <td>3268594</td>\n",
       "      <td>2565549</td>\n",
       "      <td>1897922</td>\n",
       "      <td>1185691</td>\n",
       "      <td>22716694</td>\n",
       "      <td>12.205596</td>\n",
       "    </tr>\n",
       "  </tbody>\n",
       "</table>\n",
       "</div>"
      ],
      "text/plain": [
       "        Data Cuts       W07       W08       W09       W10       W11       W12  \\\n",
       "0         AllData  20259358  20605574  20520815  21630118  33644484  25126579   \n",
       "1      GoodSpills  16765362  16008862  17151894  17710277  24699753  21779857   \n",
       "2     xPion_xN_xF  16765341  16008848  17151876  17710265  24699727  21779839   \n",
       "3        0.4<qT<5  12480029  11906596  12743771  13168371  18377891  16190006   \n",
       "4  dilutionFactor  12480029  11906596  12743771  13168371  18377891  16190006   \n",
       "5     TargetZ-cut   3106410   3006092   3154207   3244077   4528727   3996310   \n",
       "6    TargetRadius   2502000   2390843   2576198   2647451   3682446   3268594   \n",
       "\n",
       "        W13       W14      W15       WAll  % Remaining  \n",
       "0  21778925  14304447  8246741  186117041   100.000000  \n",
       "1  17124772  12857160  7964840  152062777    81.702769  \n",
       "2  17124760  12857152  7964831  152062639    81.702695  \n",
       "3  12728493   9550992  5923996  113070145    60.752172  \n",
       "4  12728493   9550992  5923996  113070145    60.752172  \n",
       "5   3143020   2367293  1457886   28004022    15.046458  \n",
       "6   2565549   1897922  1185691   22716694    12.205596  "
      ]
     },
     "execution_count": 22,
     "metadata": {},
     "output_type": "execute_result"
    }
   ],
   "source": [
    "data_cuts"
   ]
  }
 ],
 "metadata": {
  "kernelspec": {
   "display_name": "Python 2",
   "language": "python",
   "name": "python2"
  },
  "language_info": {
   "codemirror_mode": {
    "name": "ipython",
    "version": 2
   },
   "file_extension": ".py",
   "mimetype": "text/x-python",
   "name": "python",
   "nbconvert_exporter": "python",
   "pygments_lexer": "ipython2",
   "version": "2.7.9"
  }
 },
 "nbformat": 4,
 "nbformat_minor": 0
}
