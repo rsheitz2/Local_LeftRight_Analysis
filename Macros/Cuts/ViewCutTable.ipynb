{
 "cells": [
  {
   "cell_type": "code",
   "execution_count": 1,
   "metadata": {
    "collapsed": true
   },
   "outputs": [],
   "source": [
    "import pandas as pd\n",
    "import os, sys"
   ]
  },
  {
   "cell_type": "code",
   "execution_count": 2,
   "metadata": {
    "collapsed": false
   },
   "outputs": [
    {
     "data": {
      "text/html": [
       "<style>\n",
       "body {\n",
       "    font-family: \"Times New Roman\";\n",
       "}\n",
       "</style>  "
      ],
      "text/plain": [
       "<IPython.core.display.HTML object>"
      ]
     },
     "metadata": {},
     "output_type": "display_data"
    }
   ],
   "source": [
    "%%html\n",
    "<style>\n",
    "body {\n",
    "    font-family: \"Times New Roman\";\n",
    "}\n",
    "</style>  "
   ]
  },
  {
   "cell_type": "markdown",
   "metadata": {},
   "source": [
    "__Setup and Options__<br>\n",
    "mass_type:  \"HMDY\", \"LowM_AMDY\"<br>\n",
    "production: \"t3\", \"slot1\"<br>\n",
    "which_cuts: \"FinalCuts\", \"PhastCuts\""
   ]
  },
  {
   "cell_type": "code",
   "execution_count": 6,
   "metadata": {
    "collapsed": true
   },
   "outputs": [],
   "source": [
    "mass_type =\"HMDY\" #HMDY, LowM_AMDY\n",
    "production =\"slot1\" #t3, slot1\n",
    "which_cuts =\"FinalCuts\""
   ]
  },
  {
   "cell_type": "code",
   "execution_count": 7,
   "metadata": {
    "collapsed": false
   },
   "outputs": [],
   "source": [
    "cuts_path = \"/Users/robertheitz/Documents/Research/DrellYan/Analysis/TGeant/Local_LeftRight_Analysis/Macros/Cuts/\"\n",
    "data_file = cuts_path+\"Data/CombineTables/combineTables_\"+mass_type+\"_\"+production+\"_\"+which_cuts+\".csv\"\n",
    "if os.path.exists(data_file) == False:\n",
    "    print \"   File:\"\n",
    "    print data_file\n",
    "    print \"   does not exit\"\n",
    "    sys.exit()\n",
    "#col_headers = [\"Data Cuts\", \"W07\", \"W08\", \"W09\", \"W10\", \"W11\", \"W12\", \"W13\", \"W14\", \"W15\"]\n",
    "#data_cuts = pd.read_csv(data_file, delimiter=\",\", header=col_headers)\n",
    "data_cuts = pd.read_csv(data_file, delimiter=\",\")\n",
    "data_cuts.columns = [\"Data Cuts\", \"W07\", \"W08\", \"W09\", \"W10\", \"W11\", \"W12\", \"W13\", \"W14\", \"W15\", \"WAll\"]\n",
    "data_cuts[\"% Remaining\"] = 100*data_cuts[\"WAll\"]/max(data_cuts[\"WAll\"])"
   ]
  },
  {
   "cell_type": "code",
   "execution_count": 8,
   "metadata": {
    "collapsed": false,
    "scrolled": false,
    "slideshow": {
     "slide_type": "-"
    }
   },
   "outputs": [
    {
     "data": {
      "text/html": [
       "<div>\n",
       "<style scoped>\n",
       "    .dataframe tbody tr th:only-of-type {\n",
       "        vertical-align: middle;\n",
       "    }\n",
       "\n",
       "    .dataframe tbody tr th {\n",
       "        vertical-align: top;\n",
       "    }\n",
       "\n",
       "    .dataframe thead th {\n",
       "        text-align: right;\n",
       "    }\n",
       "</style>\n",
       "<table border=\"1\" class=\"dataframe\">\n",
       "  <thead>\n",
       "    <tr style=\"text-align: right;\">\n",
       "      <th></th>\n",
       "      <th>Data Cuts</th>\n",
       "      <th>W07</th>\n",
       "      <th>W08</th>\n",
       "      <th>W09</th>\n",
       "      <th>W10</th>\n",
       "      <th>W11</th>\n",
       "      <th>W12</th>\n",
       "      <th>W13</th>\n",
       "      <th>W14</th>\n",
       "      <th>W15</th>\n",
       "      <th>WAll</th>\n",
       "      <th>% Remaining</th>\n",
       "    </tr>\n",
       "  </thead>\n",
       "  <tbody>\n",
       "    <tr>\n",
       "      <th>0</th>\n",
       "      <td>AllData</td>\n",
       "      <td>19410</td>\n",
       "      <td>19184</td>\n",
       "      <td>19654</td>\n",
       "      <td>20707</td>\n",
       "      <td>31371</td>\n",
       "      <td>23563</td>\n",
       "      <td>20561</td>\n",
       "      <td>13154</td>\n",
       "      <td>7697</td>\n",
       "      <td>175301</td>\n",
       "      <td>100.000000</td>\n",
       "    </tr>\n",
       "    <tr>\n",
       "      <th>1</th>\n",
       "      <td>GoodSpills</td>\n",
       "      <td>15947</td>\n",
       "      <td>14899</td>\n",
       "      <td>16217</td>\n",
       "      <td>16895</td>\n",
       "      <td>23041</td>\n",
       "      <td>20184</td>\n",
       "      <td>16026</td>\n",
       "      <td>11796</td>\n",
       "      <td>7422</td>\n",
       "      <td>142427</td>\n",
       "      <td>81.247112</td>\n",
       "    </tr>\n",
       "    <tr>\n",
       "      <th>2</th>\n",
       "      <td>xPion_xN_xF</td>\n",
       "      <td>15932</td>\n",
       "      <td>14886</td>\n",
       "      <td>16200</td>\n",
       "      <td>16885</td>\n",
       "      <td>23022</td>\n",
       "      <td>20171</td>\n",
       "      <td>16013</td>\n",
       "      <td>11794</td>\n",
       "      <td>7414</td>\n",
       "      <td>142317</td>\n",
       "      <td>81.184363</td>\n",
       "    </tr>\n",
       "    <tr>\n",
       "      <th>3</th>\n",
       "      <td>0.4&lt;qT&lt;5</td>\n",
       "      <td>14342</td>\n",
       "      <td>13385</td>\n",
       "      <td>14609</td>\n",
       "      <td>15239</td>\n",
       "      <td>20667</td>\n",
       "      <td>18101</td>\n",
       "      <td>14365</td>\n",
       "      <td>10588</td>\n",
       "      <td>6636</td>\n",
       "      <td>127932</td>\n",
       "      <td>72.978477</td>\n",
       "    </tr>\n",
       "    <tr>\n",
       "      <th>4</th>\n",
       "      <td>dilutionFactor</td>\n",
       "      <td>14342</td>\n",
       "      <td>13385</td>\n",
       "      <td>14609</td>\n",
       "      <td>15239</td>\n",
       "      <td>20667</td>\n",
       "      <td>18101</td>\n",
       "      <td>14365</td>\n",
       "      <td>10588</td>\n",
       "      <td>6636</td>\n",
       "      <td>127932</td>\n",
       "      <td>72.978477</td>\n",
       "    </tr>\n",
       "    <tr>\n",
       "      <th>5</th>\n",
       "      <td>TargetZ-cut</td>\n",
       "      <td>4256</td>\n",
       "      <td>4024</td>\n",
       "      <td>4330</td>\n",
       "      <td>4552</td>\n",
       "      <td>6369</td>\n",
       "      <td>5503</td>\n",
       "      <td>4411</td>\n",
       "      <td>3130</td>\n",
       "      <td>2028</td>\n",
       "      <td>38603</td>\n",
       "      <td>22.020981</td>\n",
       "    </tr>\n",
       "    <tr>\n",
       "      <th>6</th>\n",
       "      <td>TargetRadius</td>\n",
       "      <td>4175</td>\n",
       "      <td>3950</td>\n",
       "      <td>4257</td>\n",
       "      <td>4474</td>\n",
       "      <td>6252</td>\n",
       "      <td>5414</td>\n",
       "      <td>4334</td>\n",
       "      <td>3078</td>\n",
       "      <td>1987</td>\n",
       "      <td>37921</td>\n",
       "      <td>21.631936</td>\n",
       "    </tr>\n",
       "  </tbody>\n",
       "</table>\n",
       "</div>"
      ],
      "text/plain": [
       "        Data Cuts    W07    W08    W09    W10    W11    W12    W13    W14  \\\n",
       "0         AllData  19410  19184  19654  20707  31371  23563  20561  13154   \n",
       "1      GoodSpills  15947  14899  16217  16895  23041  20184  16026  11796   \n",
       "2     xPion_xN_xF  15932  14886  16200  16885  23022  20171  16013  11794   \n",
       "3        0.4<qT<5  14342  13385  14609  15239  20667  18101  14365  10588   \n",
       "4  dilutionFactor  14342  13385  14609  15239  20667  18101  14365  10588   \n",
       "5     TargetZ-cut   4256   4024   4330   4552   6369   5503   4411   3130   \n",
       "6    TargetRadius   4175   3950   4257   4474   6252   5414   4334   3078   \n",
       "\n",
       "    W15    WAll  % Remaining  \n",
       "0  7697  175301   100.000000  \n",
       "1  7422  142427    81.247112  \n",
       "2  7414  142317    81.184363  \n",
       "3  6636  127932    72.978477  \n",
       "4  6636  127932    72.978477  \n",
       "5  2028   38603    22.020981  \n",
       "6  1987   37921    21.631936  "
      ]
     },
     "execution_count": 8,
     "metadata": {},
     "output_type": "execute_result"
    }
   ],
   "source": [
    "data_cuts"
   ]
  },
  {
   "cell_type": "code",
   "execution_count": null,
   "metadata": {
    "collapsed": true
   },
   "outputs": [],
   "source": []
  }
 ],
 "metadata": {
  "kernelspec": {
   "display_name": "Python 2",
   "language": "python",
   "name": "python2"
  },
  "language_info": {
   "codemirror_mode": {
    "name": "ipython",
    "version": 2
   },
   "file_extension": ".py",
   "mimetype": "text/x-python",
   "name": "python",
   "nbconvert_exporter": "python",
   "pygments_lexer": "ipython2",
   "version": "2.7.9"
  }
 },
 "nbformat": 4,
 "nbformat_minor": 0
}
