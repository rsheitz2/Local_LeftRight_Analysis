{
 "cells": [
  {
   "cell_type": "code",
   "execution_count": 1,
   "metadata": {
    "collapsed": true
   },
   "outputs": [],
   "source": [
    "import pandas as pd\n",
    "import os, sys"
   ]
  },
  {
   "cell_type": "code",
   "execution_count": 2,
   "metadata": {
    "collapsed": false
   },
   "outputs": [
    {
     "data": {
      "text/html": [
       "<style>\n",
       "body {\n",
       "    font-family: \"Times New Roman\";\n",
       "}\n",
       "</style>  "
      ],
      "text/plain": [
       "<IPython.core.display.HTML object>"
      ]
     },
     "metadata": {},
     "output_type": "display_data"
    }
   ],
   "source": [
    "%%html\n",
    "<style>\n",
    "body {\n",
    "    font-family: \"Times New Roman\";\n",
    "}\n",
    "</style>  "
   ]
  },
  {
   "cell_type": "markdown",
   "metadata": {},
   "source": [
    "__Setup and Options__<br>\n",
    "mass_type:  \"HMDY\", \"LowM_AMDY\"<br>\n",
    "production: \"t3\", \"slot1\"<br>\n",
    "which_cuts: \"FinalCuts\", \"PhastCuts\""
   ]
  },
  {
   "cell_type": "code",
   "execution_count": 3,
   "metadata": {
    "collapsed": true
   },
   "outputs": [],
   "source": [
    "mass_type =\"LowM_AMDY\" #HMDY, LowM_AMDY\n",
    "production =\"slot1\" #t3, slot1\n",
    "which_cuts =\"FinalCuts\""
   ]
  },
  {
   "cell_type": "code",
   "execution_count": 4,
   "metadata": {
    "collapsed": false
   },
   "outputs": [],
   "source": [
    "cuts_path = \"/Users/robertheitz/Documents/Research/DrellYan/Analysis/TGeant/Local_LeftRight_Analysis/Macros/Cuts/\"\n",
    "data_file = cuts_path+\"Data/CombineTables/combineTables_\"+mass_type+\"_\"+production+\"_\"+which_cuts+\".csv\"\n",
    "if os.path.exists(data_file) == False:\n",
    "    print \"   File:\"\n",
    "    print data_file\n",
    "    print \"   does not exit\"\n",
    "    sys.exit()\n",
    "#col_headers = [\"Data Cuts\", \"W07\", \"W08\", \"W09\", \"W10\", \"W11\", \"W12\", \"W13\", \"W14\", \"W15\"]\n",
    "#data_cuts = pd.read_csv(data_file, delimiter=\",\", header=col_headers)\n",
    "data_cuts = pd.read_csv(data_file, delimiter=\",\")\n",
    "data_cuts.columns = [\"Data Cuts\", \"W07\", \"W08\", \"W09\", \"W10\", \"W11\", \"W12\", \"W13\", \"W14\", \"W15\", \"WAll\"]\n",
    "data_cuts[\"% Remaining\"] = 100*data_cuts[\"WAll\"]/max(data_cuts[\"WAll\"])"
   ]
  },
  {
   "cell_type": "code",
   "execution_count": 5,
   "metadata": {
    "collapsed": false,
    "scrolled": false,
    "slideshow": {
     "slide_type": "-"
    }
   },
   "outputs": [
    {
     "data": {
      "text/html": [
       "<div>\n",
       "<style scoped>\n",
       "    .dataframe tbody tr th:only-of-type {\n",
       "        vertical-align: middle;\n",
       "    }\n",
       "\n",
       "    .dataframe tbody tr th {\n",
       "        vertical-align: top;\n",
       "    }\n",
       "\n",
       "    .dataframe thead th {\n",
       "        text-align: right;\n",
       "    }\n",
       "</style>\n",
       "<table border=\"1\" class=\"dataframe\">\n",
       "  <thead>\n",
       "    <tr style=\"text-align: right;\">\n",
       "      <th></th>\n",
       "      <th>Data Cuts</th>\n",
       "      <th>W07</th>\n",
       "      <th>W08</th>\n",
       "      <th>W09</th>\n",
       "      <th>W10</th>\n",
       "      <th>W11</th>\n",
       "      <th>W12</th>\n",
       "      <th>W13</th>\n",
       "      <th>W14</th>\n",
       "      <th>W15</th>\n",
       "      <th>WAll</th>\n",
       "      <th>% Remaining</th>\n",
       "    </tr>\n",
       "  </thead>\n",
       "  <tbody>\n",
       "    <tr>\n",
       "      <th>0</th>\n",
       "      <td>AllData</td>\n",
       "      <td>1573372</td>\n",
       "      <td>1572255</td>\n",
       "      <td>1620593</td>\n",
       "      <td>1683263</td>\n",
       "      <td>2598485</td>\n",
       "      <td>1932425</td>\n",
       "      <td>1680706</td>\n",
       "      <td>1094525</td>\n",
       "      <td>640095</td>\n",
       "      <td>14395719</td>\n",
       "      <td>100.000000</td>\n",
       "    </tr>\n",
       "    <tr>\n",
       "      <th>1</th>\n",
       "      <td>GoodSpills</td>\n",
       "      <td>1298306</td>\n",
       "      <td>1223877</td>\n",
       "      <td>1333335</td>\n",
       "      <td>1374620</td>\n",
       "      <td>1901071</td>\n",
       "      <td>1659030</td>\n",
       "      <td>1314489</td>\n",
       "      <td>982131</td>\n",
       "      <td>616734</td>\n",
       "      <td>11703593</td>\n",
       "      <td>81.299121</td>\n",
       "    </tr>\n",
       "    <tr>\n",
       "      <th>2</th>\n",
       "      <td>xPion_xN_xF</td>\n",
       "      <td>1298278</td>\n",
       "      <td>1223851</td>\n",
       "      <td>1333307</td>\n",
       "      <td>1374599</td>\n",
       "      <td>1901033</td>\n",
       "      <td>1658996</td>\n",
       "      <td>1314470</td>\n",
       "      <td>982125</td>\n",
       "      <td>616720</td>\n",
       "      <td>11703379</td>\n",
       "      <td>81.297634</td>\n",
       "    </tr>\n",
       "    <tr>\n",
       "      <th>3</th>\n",
       "      <td>0.4&lt;qT&lt;5</td>\n",
       "      <td>1121908</td>\n",
       "      <td>1056835</td>\n",
       "      <td>1151253</td>\n",
       "      <td>1187125</td>\n",
       "      <td>1641463</td>\n",
       "      <td>1432115</td>\n",
       "      <td>1134223</td>\n",
       "      <td>846897</td>\n",
       "      <td>532045</td>\n",
       "      <td>10103864</td>\n",
       "      <td>70.186588</td>\n",
       "    </tr>\n",
       "    <tr>\n",
       "      <th>4</th>\n",
       "      <td>dilutionFactor</td>\n",
       "      <td>1121908</td>\n",
       "      <td>1056835</td>\n",
       "      <td>1151253</td>\n",
       "      <td>1187125</td>\n",
       "      <td>1641463</td>\n",
       "      <td>1432115</td>\n",
       "      <td>1134223</td>\n",
       "      <td>846897</td>\n",
       "      <td>532045</td>\n",
       "      <td>10103864</td>\n",
       "      <td>70.186588</td>\n",
       "    </tr>\n",
       "    <tr>\n",
       "      <th>5</th>\n",
       "      <td>TargetZ-cut</td>\n",
       "      <td>314965</td>\n",
       "      <td>298531</td>\n",
       "      <td>324413</td>\n",
       "      <td>335659</td>\n",
       "      <td>465172</td>\n",
       "      <td>406975</td>\n",
       "      <td>322964</td>\n",
       "      <td>241673</td>\n",
       "      <td>151937</td>\n",
       "      <td>2862289</td>\n",
       "      <td>19.882918</td>\n",
       "    </tr>\n",
       "    <tr>\n",
       "      <th>6</th>\n",
       "      <td>TargetRadius</td>\n",
       "      <td>308278</td>\n",
       "      <td>292114</td>\n",
       "      <td>317985</td>\n",
       "      <td>328658</td>\n",
       "      <td>455580</td>\n",
       "      <td>398610</td>\n",
       "      <td>316149</td>\n",
       "      <td>236019</td>\n",
       "      <td>148834</td>\n",
       "      <td>2802227</td>\n",
       "      <td>19.465697</td>\n",
       "    </tr>\n",
       "  </tbody>\n",
       "</table>\n",
       "</div>"
      ],
      "text/plain": [
       "        Data Cuts      W07      W08      W09      W10      W11      W12  \\\n",
       "0         AllData  1573372  1572255  1620593  1683263  2598485  1932425   \n",
       "1      GoodSpills  1298306  1223877  1333335  1374620  1901071  1659030   \n",
       "2     xPion_xN_xF  1298278  1223851  1333307  1374599  1901033  1658996   \n",
       "3        0.4<qT<5  1121908  1056835  1151253  1187125  1641463  1432115   \n",
       "4  dilutionFactor  1121908  1056835  1151253  1187125  1641463  1432115   \n",
       "5     TargetZ-cut   314965   298531   324413   335659   465172   406975   \n",
       "6    TargetRadius   308278   292114   317985   328658   455580   398610   \n",
       "\n",
       "       W13      W14     W15      WAll  % Remaining  \n",
       "0  1680706  1094525  640095  14395719   100.000000  \n",
       "1  1314489   982131  616734  11703593    81.299121  \n",
       "2  1314470   982125  616720  11703379    81.297634  \n",
       "3  1134223   846897  532045  10103864    70.186588  \n",
       "4  1134223   846897  532045  10103864    70.186588  \n",
       "5   322964   241673  151937   2862289    19.882918  \n",
       "6   316149   236019  148834   2802227    19.465697  "
      ]
     },
     "execution_count": 5,
     "metadata": {},
     "output_type": "execute_result"
    }
   ],
   "source": [
    "data_cuts"
   ]
  },
  {
   "cell_type": "code",
   "execution_count": null,
   "metadata": {
    "collapsed": true
   },
   "outputs": [],
   "source": []
  }
 ],
 "metadata": {
  "kernelspec": {
   "display_name": "Python 2",
   "language": "python",
   "name": "python2"
  },
  "language_info": {
   "codemirror_mode": {
    "name": "ipython",
    "version": 2
   },
   "file_extension": ".py",
   "mimetype": "text/x-python",
   "name": "python",
   "nbconvert_exporter": "python",
   "pygments_lexer": "ipython2",
   "version": "2.7.9"
  }
 },
 "nbformat": 4,
 "nbformat_minor": 0
}
