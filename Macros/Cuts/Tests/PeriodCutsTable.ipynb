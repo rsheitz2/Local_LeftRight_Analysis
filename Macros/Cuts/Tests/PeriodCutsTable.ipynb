{
 "cells": [
  {
   "cell_type": "code",
   "execution_count": 8,
   "metadata": {
    "collapsed": true
   },
   "outputs": [],
   "source": [
    "from IPython.display import HTML, display"
   ]
  },
  {
   "cell_type": "code",
   "execution_count": 9,
   "metadata": {
    "collapsed": true
   },
   "outputs": [],
   "source": [
    "f = open (\"PeriodCuts.txt\", 'r')"
   ]
  },
  {
   "cell_type": "code",
   "execution_count": 10,
   "metadata": {
    "collapsed": false
   },
   "outputs": [],
   "source": [
    "data = []\n",
    "line_num = 6\n",
    "for line in f:\n",
    "    separate = line.split()\n",
    "    if line_num == 6:\n",
    "        separate.insert(0, \" \")\n",
    "    elif line_num < 10:\n",
    "        separate.insert(0, \"W0{}\".format(line_num))\n",
    "    elif line_num == 16:\n",
    "        separate.insert(0, \"All\")\n",
    "    else:\n",
    "        separate.insert(0, \"W{}\".format(line_num))\n",
    "    \n",
    "    data.append(separate)\n",
    "    line_num += 1;"
   ]
  },
  {
   "cell_type": "code",
   "execution_count": 11,
   "metadata": {
    "collapsed": false
   },
   "outputs": [],
   "source": [
    "changeCutNames = False\n",
    "cut_position = 0\n",
    "cut_names = [\"4< M(GeV/c^2) <9\", \"mu+/mu- (X/XX0>30) from common prim. vx.\", \"dimuon trigger(no Middle)\", \n",
    "             \"Z_last >1500cm, Z_first <300cm\", \"track T defined\", \"|dimuon track T| < 5ns\", \n",
    "             \"track_chi2/ndf <10\", \"Pmu < 7 && Pmu1 < 180 - Pmu2 (GeV/c)\", \"trig validation\", \n",
    "             \"good spills\", \n",
    "             \"0< xT/xB <1 && |xF|<1\", \"0.4< p_T(GeV/c)\", \"p_T(GeV/c) <3\", \n",
    "             \"-295< Z_vx <-240 or -220< Z_vx <-165cm\", \"R_vx < 1.9cm\"]\n",
    "if len(cut_names) == len(data[0]) and changeCutNames:\n",
    "    for cut in data[0]:\n",
    "        data[0][cut_position] = cut_names[cut_position]\n",
    "        cut_position += 1\n",
    "    "
   ]
  },
  {
   "cell_type": "code",
   "execution_count": 12,
   "metadata": {
    "collapsed": false
   },
   "outputs": [],
   "source": [
    "transposed = []\n",
    "for i in range(len(data[0])):\n",
    "    transposed.append([])"
   ]
  },
  {
   "cell_type": "code",
   "execution_count": 13,
   "metadata": {
    "collapsed": false
   },
   "outputs": [],
   "source": [
    "for row in data:\n",
    "    position = 0\n",
    "    for cell in row:\n",
    "        transposed[position].append(cell)\n",
    "        position += 1"
   ]
  },
  {
   "cell_type": "code",
   "execution_count": 14,
   "metadata": {
    "collapsed": false
   },
   "outputs": [
    {
     "data": {
      "text/html": [
       "<table><tr><td> </td><td>W07</td><td>W08</td><td>W09</td><td>W10</td><td>W11</td><td>W12</td><td>W13</td><td>W14</td><td>W15</td><td>All</td></tr><tr><td>All_Di-particles</td><td>2489562290.0</td><td>2455642380.0</td><td>2472617202.0</td><td>2550466076.0</td><td>4170278159.0</td><td>3400705341.0</td><td>3028820619.0</td><td>2130248483.0</td><td>1131509820.0</td><td>23829850370.0</td></tr><tr><td>CommonVX</td><td>2377760553.0</td><td>2374441781.0</td><td>2381998921.0</td><td>2464841208.0</td><td>3946969644.0</td><td>3134518461.0</td><td>2761525729.0</td><td>1912896873.0</td><td>1030490359.0</td><td>22385443529.0</td></tr><tr><td>HasCommonPrimaryVertex</td><td>1404047829.0</td><td>1405909847.0</td><td>1407712084.0</td><td>1456631541.0</td><td>2317636140.0</td><td>1830302905.0</td><td>1609969618.0</td><td>1111277624.0</td><td>601311276.0</td><td>13144798864.0</td></tr><tr><td>Opposite_Q</td><td>711456352.0</td><td>713910205.0</td><td>718377385.0</td><td>745646830.0</td><td>1181098318.0</td><td>931876162.0</td><td>812972947.0</td><td>558045292.0</td><td>303724767.0</td><td>6677108258.0</td></tr><tr><td>DimuonTrig</td><td>668367060.0</td><td>670042415.0</td><td>670155381.0</td><td>696049100.0</td><td>1097306946.0</td><td>862669198.0</td><td>751809370.0</td><td>514407959.0</td><td>280446675.0</td><td>6211254104.0</td></tr><tr><td>XX0>30</td><td>117047550.0</td><td>120825477.0</td><td>118492784.0</td><td>123751548.0</td><td>191582988.0</td><td>144970497.0</td><td>125523293.0</td><td>82354436.0</td><td>47208281.0</td><td>1071756854.0</td></tr><tr><td>HighMass</td><td>103074.0</td><td>104581.0</td><td>94549.0</td><td>97000.0</td><td>150192.0</td><td>112555.0</td><td>100230.0</td><td>69090.0</td><td>37020.0</td><td>868291.0</td></tr><tr><td>tr1Zfirst</td><td>102954.0</td><td>104488.0</td><td>94319.0</td><td>96891.0</td><td>150043.0</td><td>112371.0</td><td>100053.0</td><td>69005.0</td><td>36994.0</td><td>867118.0</td></tr><tr><td>tr1Zlast</td><td>98303.0</td><td>99546.0</td><td>90139.0</td><td>92466.0</td><td>142642.0</td><td>106581.0</td><td>94775.0</td><td>65139.0</td><td>35152.0</td><td>824743.0</td></tr><tr><td>tr2Zfirst</td><td>94401.0</td><td>96285.0</td><td>85511.0</td><td>88827.0</td><td>137801.0</td><td>102014.0</td><td>91345.0</td><td>62018.0</td><td>34026.0</td><td>792228.0</td></tr><tr><td>tr2Zlast</td><td>93648.0</td><td>95324.0</td><td>84581.0</td><td>87901.0</td><td>136516.0</td><td>100944.0</td><td>90407.0</td><td>61367.0</td><td>33691.0</td><td>784379.0</td></tr><tr><td>TrackT_defined</td><td>92732.0</td><td>94387.0</td><td>83806.0</td><td>87076.0</td><td>135200.0</td><td>99916.0</td><td>89477.0</td><td>60681.0</td><td>33368.0</td><td>776643.0</td></tr><tr><td>TrackT_within5</td><td>40437.0</td><td>41056.0</td><td>40643.0</td><td>43009.0</td><td>66519.0</td><td>49618.0</td><td>45034.0</td><td>29954.0</td><td>16811.0</td><td>373081.0</td></tr><tr><td>AllData</td><td>18723.0</td><td>18718.0</td><td>18793.0</td><td>19923.0</td><td>30380.0</td><td>22764.0</td><td>19942.0</td><td>12837.0</td><td>7446.0</td><td>169526.0</td></tr><tr><td>GoodSpills</td><td>15424.0</td><td>14541.0</td><td>15713.0</td><td>16257.0</td><td>22331.0</td><td>19668.0</td><td>15597.0</td><td>11533.0</td><td>7191.0</td><td>138255.0</td></tr><tr><td>xPion,xN,xF</td><td>15411.0</td><td>14530.0</td><td>15697.0</td><td>16251.0</td><td>22313.0</td><td>19657.0</td><td>15588.0</td><td>11528.0</td><td>7184.0</td><td>138159.0</td></tr><tr><td>0.4<qT<5</td><td>13932.0</td><td>13126.0</td><td>14152.0</td><td>14751.0</td><td>20220.0</td><td>17720.0</td><td>14057.0</td><td>10427.0</td><td>6463.0</td><td>124848.0</td></tr><tr><td>TargetZ-cut</td><td>4212.0</td><td>4013.0</td><td>4273.0</td><td>4447.0</td><td>6306.0</td><td>5489.0</td><td>4345.0</td><td>3093.0</td><td>2022.0</td><td>38200.0</td></tr><tr><td>TargetRadius</td><td>3834.0</td><td>3612.0</td><td>3914.0</td><td>4074.0</td><td>5743.0</td><td>5052.0</td><td>3978.0</td><td>2845.0</td><td>1852.0</td><td>34904.0</td></tr></table>"
      ],
      "text/plain": [
       "<IPython.core.display.HTML object>"
      ]
     },
     "metadata": {},
     "output_type": "display_data"
    }
   ],
   "source": [
    "display(HTML(\n",
    "    '<table><tr>{}</tr></table>'.format(\n",
    "        '</tr><tr>'.join(\n",
    "            '<td>{}</td>'.format('</td><td>'.join(str(_) for _ in row)) for row in transposed)\n",
    "        )\n",
    " ))"
   ]
  },
  {
   "cell_type": "code",
   "execution_count": null,
   "metadata": {
    "collapsed": true
   },
   "outputs": [],
   "source": []
  }
 ],
 "metadata": {
  "kernelspec": {
   "display_name": "Python 2",
   "language": "python",
   "name": "python2"
  },
  "language_info": {
   "codemirror_mode": {
    "name": "ipython",
    "version": 2
   },
   "file_extension": ".py",
   "mimetype": "text/x-python",
   "name": "python",
   "nbconvert_exporter": "python",
   "pygments_lexer": "ipython2",
   "version": "2.7.9"
  }
 },
 "nbformat": 4,
 "nbformat_minor": 2
}
