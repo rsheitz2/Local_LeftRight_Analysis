{
 "cells": [
  {
   "cell_type": "code",
   "execution_count": 44,
   "metadata": {
    "collapsed": false
   },
   "outputs": [],
   "source": [
    "from IPython.display import HTML, display"
   ]
  },
  {
   "cell_type": "code",
   "execution_count": 45,
   "metadata": {
    "collapsed": true
   },
   "outputs": [],
   "source": [
    "f = open (\"OneSampleCuts.txt\", 'r')"
   ]
  },
  {
   "cell_type": "code",
   "execution_count": 46,
   "metadata": {
    "collapsed": false
   },
   "outputs": [],
   "source": [
    "#########\n",
    "#Getting data \n",
    "#Data is written like: numCuts nameCut\n",
    "#########\n",
    "data_1st = []\n",
    "cuts_1st = []\n",
    "data_2nd = []\n",
    "cuts_2nd = []\n",
    "half = 9\n",
    "count = 0\n",
    "for line in f:\n",
    "    separate = line.split()\n",
    "    odd = True\n",
    "    even = False\n",
    "    for item in separate:\n",
    "        if odd:\n",
    "            if count < half:\n",
    "                data_1st.append(item)\n",
    "            else:\n",
    "                data_2nd.append(item)\n",
    "            odd = False\n",
    "            even = True\n",
    "        elif even:\n",
    "            if count < half:\n",
    "                cuts_1st.append(item)\n",
    "            else:\n",
    "                cuts_2nd.append(item)\n",
    "            even = False\n",
    "            odd = True\n",
    "            count += 1"
   ]
  },
  {
   "cell_type": "code",
   "execution_count": 31,
   "metadata": {
    "collapsed": false
   },
   "outputs": [],
   "source": [
    "########\n",
    "#Can be used to rename cut names\n",
    "########\n",
    "'''\n",
    "cut_names = [\"4< M(GeV/c^2) <9\", \"mu+/mu- (X/XX0>30) from common prim. vx.\", \"dimuon trigger(no Middle)\", \n",
    "             \"Z_last >1500cm, Z_first <300cm\", \"track T defined\", \"|dimuon track T| < 5ns\", \n",
    "             \"track_chi2/ndf <10\", \"Pmu < 7 && Pmu1 < 180 - Pmu2 (GeV/c)\", \"trig validation\", \n",
    "             \"good spills\", \n",
    "             \"0< xT/xB <1 && |xF|<1\", \"0.4< p_T(GeV/c)\", \"p_T(GeV/c) <3\", \n",
    "             \"-295< Z_vx <-240 or -220< Z_vx <-165cm\", \"R_vx < 1.9cm\"]\n",
    "cut_name_position = 0\n",
    "for i in range(len(cuts_1st) ):\n",
    "    cuts_1st[i] = cuts_1st[i]\n",
    "    cut_name_position += 1\n",
    "\n",
    "for i in range(len(cuts_2nd) ):\n",
    "    cuts_2nd[i] = cuts_2nd[i]\n",
    "    cut_name_position += 1\n",
    "'''"
   ]
  },
  {
   "cell_type": "code",
   "execution_count": 47,
   "metadata": {
    "collapsed": false
   },
   "outputs": [],
   "source": [
    "############\n",
    "#Adding percent of data remaining to table\n",
    "############\n",
    "alldata = float(data_1st[0] )\n",
    "\n",
    "percentdrop_1st = []\n",
    "for stat in data_1st:\n",
    "    percent_drop = 100.0*float(stat)/alldata\n",
    "    percentdrop_1st.append(\"{0:.2f}\".format(percent_drop) )\n",
    "    \n",
    "percentdrop_2nd = []\n",
    "for stat in data_2nd:\n",
    "    percentdrop = float(stat)/alldata\n",
    "    percentdrop_2nd.append(\"{0:.2f}\".format(percent_drop) )"
   ]
  },
  {
   "cell_type": "code",
   "execution_count": 48,
   "metadata": {
    "collapsed": true
   },
   "outputs": [],
   "source": [
    "###########\n",
    "#Titles of columns in table\n",
    "###########\n",
    "cuts_1st.insert(0, \"Cut Types\")\n",
    "data_1st.insert(0, \"Data Left After Cuts\")\n",
    "percentdrop_1st.insert(0, \"% Remaining\")"
   ]
  },
  {
   "cell_type": "code",
   "execution_count": 49,
   "metadata": {
    "collapsed": true
   },
   "outputs": [],
   "source": [
    "#######\n",
    "#table is data of cuts \n",
    "#######\n",
    "table = []\n",
    "table.append(cuts_1st)\n",
    "table.append(data_1st)\n",
    "table.append(percentdrop_1st)\n",
    "table.append([])\n",
    "table.append(cuts_2nd)\n",
    "table.append(data_2nd)\n",
    "table.append(percentdrop_2nd)"
   ]
  },
  {
   "cell_type": "code",
   "execution_count": 50,
   "metadata": {
    "collapsed": false
   },
   "outputs": [],
   "source": [
    "##########\n",
    "#Can be used to transpose data\n",
    "##########\n",
    "transposed = []\n",
    "for row in range(half+1):\n",
    "    transposed.append([])\n",
    "for row in table:\n",
    "    position = 0\n",
    "    for cell in row:\n",
    "        transposed[position].append(cell)\n",
    "        position += 1"
   ]
  },
  {
   "cell_type": "code",
   "execution_count": 51,
   "metadata": {
    "collapsed": false
   },
   "outputs": [
    {
     "data": {
      "text/html": [
       "<table><tr><td>Cuts</td><td>Data after Cuts</td><td>% Remaining</td><td>TrackT_within5</td><td>957</td><td>8.50</td></tr><tr><td>All_Di-particles</td><td>11262</td><td>100.00</td><td>TracksX/ndf<10</td><td>957</td><td>8.50</td></tr><tr><td>XX0>30</td><td>1957</td><td>17.38</td><td>BeamDecay</td><td>957</td><td>8.50</td></tr><tr><td>CommonVX</td><td>1753</td><td>15.57</td><td>TriggerVal</td><td>952</td><td>8.50</td></tr><tr><td>HasCommonPrimaryVertex</td><td>1748</td><td>15.52</td><td>GoodSpills</td><td>952</td><td>8.50</td></tr><tr><td>HighMass</td><td>1341</td><td>11.91</td><td>PhysKinematics</td><td>903</td><td>8.50</td></tr><tr><td>Opposite_Q</td><td>1341</td><td>11.91</td><td>Targetz-cut</td><td>376</td><td>8.50</td></tr><tr><td>DimuonTrig</td><td>965</td><td>8.57</td><td>Targetradius</td><td>370</td><td>8.50</td></tr><tr><td>ZfirstZlast</td><td>957</td><td>8.50</td></tr><tr><td>TrackT_defined</td><td>957</td><td>8.50</td></tr></table>"
      ],
      "text/plain": [
       "<IPython.core.display.HTML object>"
      ]
     },
     "metadata": {},
     "output_type": "display_data"
    }
   ],
   "source": [
    "########\n",
    "#Makes table of cuts\n",
    "########\n",
    "display(HTML(\n",
    "    '<table><tr>{}</tr></table>'.format(\n",
    "        '</tr><tr>'.join(\n",
    "            '<td>{}</td>'.format('</td><td>'.join(str(_) for _ in row)) for row in transposed)\n",
    "            #'<td>{}</td>'.format('</td><td>'.join(str(_) for _ in row)) for row in table)   \n",
    "        )\n",
    " ))"
   ]
  }
 ],
 "metadata": {
  "kernelspec": {
   "display_name": "Python 2",
   "language": "python",
   "name": "python2"
  },
  "language_info": {
   "codemirror_mode": {
    "name": "ipython",
    "version": 2
   },
   "file_extension": ".py",
   "mimetype": "text/x-python",
   "name": "python",
   "nbconvert_exporter": "python",
   "pygments_lexer": "ipython2",
   "version": "2.7.9"
  }
 },
 "nbformat": 4,
 "nbformat_minor": 2
}
