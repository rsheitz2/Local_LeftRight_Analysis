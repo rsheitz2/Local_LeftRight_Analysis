{
 "cells": [
  {
   "cell_type": "code",
   "execution_count": 1,
   "metadata": {
    "collapsed": true
   },
   "outputs": [],
   "source": [
    "from IPython.display import HTML, display"
   ]
  },
  {
   "cell_type": "code",
   "execution_count": 2,
   "metadata": {
    "collapsed": true
   },
   "outputs": [],
   "source": [
    "f = open (\"PeriodCuts.txt\", 'r')"
   ]
  },
  {
   "cell_type": "code",
   "execution_count": 3,
   "metadata": {
    "collapsed": false
   },
   "outputs": [],
   "source": [
    "data = []\n",
    "line_num = 6\n",
    "for line in f:\n",
    "    separate = line.split()\n",
    "    if line_num == 6:\n",
    "        separate.insert(0, \" \")\n",
    "    elif line_num < 10:\n",
    "        separate.insert(0, \"W0{}\".format(line_num))\n",
    "    elif line_num == 16:\n",
    "        separate.insert(0, \"All\")\n",
    "    else:\n",
    "        separate.insert(0, \"W{}\".format(line_num))\n",
    "    \n",
    "    data.append(separate)\n",
    "    line_num += 1;"
   ]
  },
  {
   "cell_type": "code",
   "execution_count": 4,
   "metadata": {
    "collapsed": false
   },
   "outputs": [
    {
     "ename": "IndexError",
     "evalue": "list index out of range",
     "output_type": "error",
     "traceback": [
      "\u001b[0;31m---------------------------------------------------------------------------\u001b[0m",
      "\u001b[0;31mIndexError\u001b[0m                                Traceback (most recent call last)",
      "\u001b[0;32m<ipython-input-4-d5dc81197439>\u001b[0m in \u001b[0;36m<module>\u001b[0;34m()\u001b[0m\n\u001b[1;32m      7\u001b[0m              \"-295< Z_vx <-240 or -220< Z_vx <-165cm\", \"R_vx < 1.9cm\"]\n\u001b[1;32m      8\u001b[0m \u001b[0;32mfor\u001b[0m \u001b[0mcut\u001b[0m \u001b[0;32min\u001b[0m \u001b[0mdata\u001b[0m\u001b[0;34m[\u001b[0m\u001b[0;36m0\u001b[0m\u001b[0;34m]\u001b[0m\u001b[0;34m:\u001b[0m\u001b[0;34m\u001b[0m\u001b[0m\n\u001b[0;32m----> 9\u001b[0;31m     \u001b[0mdata\u001b[0m\u001b[0;34m[\u001b[0m\u001b[0;36m0\u001b[0m\u001b[0;34m]\u001b[0m\u001b[0;34m[\u001b[0m\u001b[0mcut_position\u001b[0m\u001b[0;34m]\u001b[0m \u001b[0;34m=\u001b[0m \u001b[0mcut_names\u001b[0m\u001b[0;34m[\u001b[0m\u001b[0mcut_position\u001b[0m\u001b[0;34m]\u001b[0m\u001b[0;34m\u001b[0m\u001b[0m\n\u001b[0m\u001b[1;32m     10\u001b[0m     \u001b[0mcut_position\u001b[0m \u001b[0;34m+=\u001b[0m \u001b[0;36m1\u001b[0m\u001b[0;34m\u001b[0m\u001b[0m\n\u001b[1;32m     11\u001b[0m \u001b[0;34m\u001b[0m\u001b[0m\n",
      "\u001b[0;31mIndexError\u001b[0m: list index out of range"
     ]
    }
   ],
   "source": [
    "cut_position = 0\n",
    "cut_names = [\"4< M(GeV/c^2) <9\", \"mu+/mu- (X/XX0>30) from common prim. vx.\", \"dimuon trigger(no Middle)\", \n",
    "             \"Z_last >1500cm, Z_first <300cm\", \"track T defined\", \"|dimuon track T| < 5ns\", \n",
    "             \"track_chi2/ndf <10\", \"Pmu < 7 && Pmu1 < 180 - Pmu2 (GeV/c)\", \"trig validation\", \n",
    "             \"good spills\", \n",
    "             \"0< xT/xB <1 && |xF|<1\", \"0.4< p_T(GeV/c)\", \"p_T(GeV/c) <3\", \n",
    "             \"-295< Z_vx <-240 or -220< Z_vx <-165cm\", \"R_vx < 1.9cm\"]\n",
    "for cut in data[0]:\n",
    "    data[0][cut_position] = cut_names[cut_position]\n",
    "    cut_position += 1\n",
    "    "
   ]
  },
  {
   "cell_type": "code",
   "execution_count": 8,
   "metadata": {
    "collapsed": false
   },
   "outputs": [],
   "source": [
    "transposed = []\n",
    "for i in range(17):\n",
    "    transposed.append([])"
   ]
  },
  {
   "cell_type": "code",
   "execution_count": 9,
   "metadata": {
    "collapsed": false
   },
   "outputs": [
    {
     "ename": "IndexError",
     "evalue": "list index out of range",
     "output_type": "error",
     "traceback": [
      "\u001b[0;31m---------------------------------------------------------------------------\u001b[0m",
      "\u001b[0;31mIndexError\u001b[0m                                Traceback (most recent call last)",
      "\u001b[0;32m<ipython-input-9-9f36b7a2db31>\u001b[0m in \u001b[0;36m<module>\u001b[0;34m()\u001b[0m\n\u001b[1;32m      2\u001b[0m     \u001b[0mposition\u001b[0m \u001b[0;34m=\u001b[0m \u001b[0;36m0\u001b[0m\u001b[0;34m\u001b[0m\u001b[0m\n\u001b[1;32m      3\u001b[0m     \u001b[0;32mfor\u001b[0m \u001b[0mcell\u001b[0m \u001b[0;32min\u001b[0m \u001b[0mrow\u001b[0m\u001b[0;34m:\u001b[0m\u001b[0;34m\u001b[0m\u001b[0m\n\u001b[0;32m----> 4\u001b[0;31m         \u001b[0mtransposed\u001b[0m\u001b[0;34m[\u001b[0m\u001b[0mposition\u001b[0m\u001b[0;34m]\u001b[0m\u001b[0;34m.\u001b[0m\u001b[0mappend\u001b[0m\u001b[0;34m(\u001b[0m\u001b[0mcell\u001b[0m\u001b[0;34m)\u001b[0m\u001b[0;34m\u001b[0m\u001b[0m\n\u001b[0m\u001b[1;32m      5\u001b[0m         \u001b[0mposition\u001b[0m \u001b[0;34m+=\u001b[0m \u001b[0;36m1\u001b[0m\u001b[0;34m\u001b[0m\u001b[0m\n",
      "\u001b[0;31mIndexError\u001b[0m: list index out of range"
     ]
    }
   ],
   "source": [
    "for row in data:\n",
    "    position = 0\n",
    "    for cell in row:\n",
    "        transposed[position].append(cell)\n",
    "        position += 1"
   ]
  },
  {
   "cell_type": "code",
   "execution_count": 35,
   "metadata": {
    "collapsed": false
   },
   "outputs": [
    {
     "data": {
      "text/html": [
       "<table><tr><td>4< M(GeV/c^2) <9</td><td>W07</td><td>W08</td><td>W09</td><td>W10</td><td>W11</td><td>W12</td><td>W13</td><td>W14</td><td>W15</td><td>All</td></tr><tr><td>mu+/mu- (X/XX0>30) from common prim. vx.</td><td>215203</td><td>219929</td><td>204943</td><td>209385</td><td>326610</td><td>247314</td><td>218542</td><td>151828</td><td>38364</td><td>1.83212e+06</td></tr><tr><td>dimuon trigger(no Middle)</td><td>174679</td><td>177511</td><td>161652</td><td>165184</td><td>256077</td><td>192537</td><td>170507</td><td>118489</td><td>29574</td><td>1.44621e+06</td></tr><tr><td>Z_last >1500cm, Z_first <300cm</td><td>160324</td><td>163698</td><td>146107</td><td>151383</td><td>235472</td><td>174876</td><td>155848</td><td>106693</td><td>29564</td><td>1.32396e+06</td></tr><tr><td>track T defined</td><td>158878</td><td>162187</td><td>144826</td><td>150009</td><td>233316</td><td>173185</td><td>154324</td><td>105555</td><td>29563</td><td>1.31184e+06</td></tr><tr><td>|dimuon track T| < 5ns</td><td>71050</td><td>72542</td><td>71775</td><td>75380</td><td>116898</td><td>87736</td><td>78791</td><td>52845</td><td>29503</td><td>656520</td></tr><tr><td>track_chi2/ndf <10</td><td>70463</td><td>71882</td><td>71211</td><td>74799</td><td>116151</td><td>87035</td><td>78084</td><td>52407</td><td>29230</td><td>651262</td></tr><tr><td>Pmu < 7 && Pmu1 < 180 - Pmu2 (GeV/c)</td><td>37017</td><td>37138</td><td>37434</td><td>39227</td><td>60173</td><td>45283</td><td>39185</td><td>25475</td><td>14799</td><td>335731</td></tr><tr><td>trig validation</td><td>31110</td><td>31168</td><td>31593</td><td>33124</td><td>50851</td><td>38108</td><td>33025</td><td>21359</td><td>12407</td><td>282745</td></tr><tr><td>good spills</td><td>25702</td><td>24145</td><td>26440</td><td>27044</td><td>37404</td><td>32916</td><td>25780</td><td>19187</td><td>11981</td><td>230599</td></tr><tr><td>0< xT/xB <1 && |xF|<1</td><td>25695</td><td>24135</td><td>26435</td><td>27036</td><td>37398</td><td>32905</td><td>25773</td><td>19182</td><td>11976</td><td>230535</td></tr><tr><td>0.4< p_T(GeV/c)</td><td>23231</td><td>21734</td><td>23768</td><td>24465</td><td>33806</td><td>29627</td><td>23202</td><td>17298</td><td>10756</td><td>207887</td></tr><tr><td>p_T(GeV/c) <3</td><td>22704</td><td>21194</td><td>23194</td><td>23926</td><td>33051</td><td>28952</td><td>22705</td><td>16874</td><td>10512</td><td>203112</td></tr><tr><td>-295< Z_vx <-240 or -220< Z_vx <-165cm</td><td>6014</td><td>5626</td><td>6161</td><td>6281</td><td>9021</td><td>7872</td><td>6030</td><td>4452</td><td>2850</td><td>54307</td></tr><tr><td>R_vx < 1.9cm</td><td>5440</td><td>5048</td><td>5632</td><td>5727</td><td>8205</td><td>7228</td><td>5488</td><td>4044</td><td>2616</td><td>49428</td></tr><tr><td></td></tr><tr><td></td></tr></table>"
      ],
      "text/plain": [
       "<IPython.core.display.HTML object>"
      ]
     },
     "metadata": {},
     "output_type": "display_data"
    }
   ],
   "source": [
    "display(HTML(\n",
    "    '<table><tr>{}</tr></table>'.format(\n",
    "        '</tr><tr>'.join(\n",
    "            '<td>{}</td>'.format('</td><td>'.join(str(_) for _ in row)) for row in transposed)\n",
    "        )\n",
    " ))"
   ]
  },
  {
   "cell_type": "code",
   "execution_count": null,
   "metadata": {
    "collapsed": true
   },
   "outputs": [],
   "source": []
  }
 ],
 "metadata": {
  "kernelspec": {
   "display_name": "Python 2",
   "language": "python",
   "name": "python2"
  },
  "language_info": {
   "codemirror_mode": {
    "name": "ipython",
    "version": 2
   },
   "file_extension": ".py",
   "mimetype": "text/x-python",
   "name": "python",
   "nbconvert_exporter": "python",
   "pygments_lexer": "ipython2",
   "version": "2.7.9"
  }
 },
 "nbformat": 4,
 "nbformat_minor": 2
}
